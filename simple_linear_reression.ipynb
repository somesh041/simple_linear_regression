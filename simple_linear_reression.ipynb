{
  "nbformat": 4,
  "nbformat_minor": 0,
  "metadata": {
    "colab": {
      "name": "simple_linear_reression.ipynb",
      "provenance": [],
      "collapsed_sections": [],
      "authorship_tag": "ABX9TyMfmM8fdvOkwRGB3v8jl7nQ",
      "include_colab_link": true
    },
    "kernelspec": {
      "name": "python3",
      "display_name": "Python 3"
    }
  },
  "cells": [
    {
      "cell_type": "markdown",
      "metadata": {
        "id": "view-in-github",
        "colab_type": "text"
      },
      "source": [
        "<a href=\"https://colab.research.google.com/github/somesh041/simple_linear_regression/blob/master/simple_linear_reression.ipynb\" target=\"_parent\"><img src=\"https://colab.research.google.com/assets/colab-badge.svg\" alt=\"Open In Colab\"/></a>"
      ]
    },
    {
      "cell_type": "markdown",
      "metadata": {
        "id": "Kbgl47o_clAM",
        "colab_type": "text"
      },
      "source": [
        "#importing the libraries"
      ]
    },
    {
      "cell_type": "code",
      "metadata": {
        "id": "BegGTQl_c5km",
        "colab_type": "code",
        "colab": {}
      },
      "source": [
        "import numpy as np\n",
        "import matplotlib.pyplot as plt\n",
        "import pandas as pd"
      ],
      "execution_count": 0,
      "outputs": []
    },
    {
      "cell_type": "markdown",
      "metadata": {
        "id": "__ZsbSjFdH1n",
        "colab_type": "text"
      },
      "source": [
        "# importing the dataset"
      ]
    },
    {
      "cell_type": "code",
      "metadata": {
        "id": "RovXNRBZdWRU",
        "colab_type": "code",
        "colab": {}
      },
      "source": [
        "dataset = pd.read_csv('road.csv')\n",
        "x=dataset.iloc[:, :-1].values\n",
        "y=dataset.iloc[:, -1].values"
      ],
      "execution_count": 0,
      "outputs": []
    },
    {
      "cell_type": "markdown",
      "metadata": {
        "id": "rK2YvGI7fLxy",
        "colab_type": "text"
      },
      "source": [
        "# splitting the dataset into training set and test set"
      ]
    },
    {
      "cell_type": "code",
      "metadata": {
        "id": "P7JP48kafn5H",
        "colab_type": "code",
        "colab": {}
      },
      "source": [
        "from sklearn.model_selection import train_test_split\n",
        "x_train, x_test, y_train, y_test= train_test_split(x, y, test_size=0.2, random_state=0)"
      ],
      "execution_count": 0,
      "outputs": []
    },
    {
      "cell_type": "markdown",
      "metadata": {
        "id": "eGpPhdewgS1G",
        "colab_type": "text"
      },
      "source": [
        "# training the simple linear regression model on training set"
      ]
    },
    {
      "cell_type": "code",
      "metadata": {
        "id": "lgc9t5kzgiQM",
        "colab_type": "code",
        "colab": {
          "base_uri": "https://localhost:8080/",
          "height": 34
        },
        "outputId": "9a823610-361a-4c93-d021-187a1c375081"
      },
      "source": [
        "from sklearn.linear_model import LinearRegression\n",
        "regressor = LinearRegression()\n",
        "regressor.fit(x_train, y_train)"
      ],
      "execution_count": 15,
      "outputs": [
        {
          "output_type": "execute_result",
          "data": {
            "text/plain": [
              "LinearRegression(copy_X=True, fit_intercept=True, n_jobs=None, normalize=False)"
            ]
          },
          "metadata": {
            "tags": []
          },
          "execution_count": 15
        }
      ]
    },
    {
      "cell_type": "markdown",
      "metadata": {
        "id": "XL4lrA2DhOIq",
        "colab_type": "text"
      },
      "source": [
        "# predicting the test set results"
      ]
    },
    {
      "cell_type": "code",
      "metadata": {
        "id": "FWQljPnrhUzP",
        "colab_type": "code",
        "colab": {}
      },
      "source": [
        "y_pred= regressor.predict(x_test)"
      ],
      "execution_count": 0,
      "outputs": []
    },
    {
      "cell_type": "markdown",
      "metadata": {
        "id": "iH8YVcjqhiXa",
        "colab_type": "text"
      },
      "source": [
        "# visualising the training set results"
      ]
    },
    {
      "cell_type": "code",
      "metadata": {
        "id": "_bmhpmhOhtem",
        "colab_type": "code",
        "colab": {
          "base_uri": "https://localhost:8080/",
          "height": 295
        },
        "outputId": "3e156b07-b086-4a23-e5a7-27c229c2401f"
      },
      "source": [
        "plt.scatter(x_train, y_train, color='red')\n",
        "plt.plot(x_train, regressor.predict(x_train), color='blue')\n",
        "plt.title('month wise road accidents(training_set)')\n",
        "plt.xlabel('months')\n",
        "plt.ylabel('no.of accidents')\n",
        "plt.show()"
      ],
      "execution_count": 19,
      "outputs": [
        {
          "output_type": "display_data",
          "data": {
            "image/png": "[encoded data removed]",
            "text/plain": [
              "<Figure size 432x288 with 1 Axes>"
            ]
          },
          "metadata": {
            "tags": [],
            "needs_background": "light"
          }
        }
      ]
    },
    {
      "cell_type": "markdown",
      "metadata": {
        "id": "5U6Rfcm_jBl6",
        "colab_type": "text"
      },
      "source": [
        "# visualising the test set results\n",
        "\n",
        "---\n",
        "\n"
      ]
    },
    {
      "cell_type": "code",
      "metadata": {
        "id": "PMJf-uAdjHZf",
        "colab_type": "code",
        "colab": {
          "base_uri": "https://localhost:8080/",
          "height": 295
        },
        "outputId": "84275c98-552e-4336-ded3-bec5530797e6"
      },
      "source": [
        "plt.scatter(x_test, y_test, color='red')\n",
        "plt.plot(x_train, regressor.predict(x_train), color='blue')\n",
        "plt.title('month wise road accidents(training_set)')\n",
        "plt.xlabel('months')\n",
        "plt.ylabel('no.of accidents')\n",
        "plt.show()"
      ],
      "execution_count": 20,
      "outputs": [
        {
          "output_type": "display_data",
          "data": {
            "image/png": "[encoded data removed]",
            "text/plain": [
              "<Figure size 432x288 with 1 Axes>"
            ]
          },
          "metadata": {
            "tags": [],
            "needs_background": "light"
          }
        }
      ]
    },
    {
      "cell_type": "markdown",
      "metadata": {
        "id": "Yv9ymb9ZnJmR",
        "colab_type": "text"
      },
      "source": [
        "# making a single prediction"
      ]
    },
    {
      "cell_type": "code",
      "metadata": {
        "id": "PhA1Jm2BnOb2",
        "colab_type": "code",
        "colab": {
          "base_uri": "https://localhost:8080/",
          "height": 34
        },
        "outputId": "db57cb71-f05e-44c6-e348-e93a5ed90b0f"
      },
      "source": [
        "print(regressor.predict([[12]]))"
      ],
      "execution_count": 21,
      "outputs": [
        {
          "output_type": "stream",
          "text": [
            "[27.05555556]\n"
          ],
          "name": "stdout"
        }
      ]
    },
    {
      "cell_type": "markdown",
      "metadata": {
        "id": "GZ2YQKn2nZL5",
        "colab_type": "text"
      },
      "source": [
        "# getting the final linear regression eqaution with the values of the coefficients"
      ]
    },
    {
      "cell_type": "code",
      "metadata": {
        "id": "0uu8Gwvcnjm8",
        "colab_type": "code",
        "colab": {
          "base_uri": "https://localhost:8080/",
          "height": 50
        },
        "outputId": "78bcbe49-e6ef-4499-b7a5-129fb1530f04"
      },
      "source": [
        "print(regressor.coef_)\n",
        "print(regressor.intercept_)"
      ],
      "execution_count": 22,
      "outputs": [
        {
          "output_type": "stream",
          "text": [
            "[-0.28703704]\n",
            "30.5\n"
          ],
          "name": "stdout"
        }
      ]
    }
  ]
}