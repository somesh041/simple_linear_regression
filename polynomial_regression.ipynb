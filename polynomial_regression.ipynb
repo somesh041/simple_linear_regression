{
  "nbformat": 4,
  "nbformat_minor": 0,
  "metadata": {
    "colab": {
      "name": "polynomial_regression.ipynb",
      "provenance": [],
      "collapsed_sections": [],
      "authorship_tag": "ABX9TyM1rKSsFZ4Pg52dng0LMeto",
      "include_colab_link": true
    },
    "kernelspec": {
      "name": "python3",
      "display_name": "Python 3"
    }
  },
  "cells": [
    {
      "cell_type": "markdown",
      "metadata": {
        "id": "view-in-github",
        "colab_type": "text"
      },
      "source": [
        "<a href=\"https://colab.research.google.com/github/somesh041/simple_linear_regression/blob/master/polynomial_regression.ipynb\" target=\"_parent\"><img src=\"https://colab.research.google.com/assets/colab-badge.svg\" alt=\"Open In Colab\"/></a>"
      ]
    },
    {
      "cell_type": "markdown",
      "metadata": {
        "id": "ZYtMGVnHgyJ4",
        "colab_type": "text"
      },
      "source": [
        "# importing the libraies"
      ]
    },
    {
      "cell_type": "code",
      "metadata": {
        "id": "e7tJVMuDg6Gp",
        "colab_type": "code",
        "colab": {}
      },
      "source": [
        "import numpy as np\n",
        "import matplotlib.pyplot as plt\n",
        "import pandas as pd"
      ],
      "execution_count": 0,
      "outputs": []
    },
    {
      "cell_type": "markdown",
      "metadata": {
        "id": "K29jQEPHhate",
        "colab_type": "text"
      },
      "source": [
        "# importing the dataset"
      ]
    },
    {
      "cell_type": "code",
      "metadata": {
        "id": "-GPXclflhd9L",
        "colab_type": "code",
        "colab": {}
      },
      "source": [
        "dataset=pd.read_csv('Position_Salaries.csv')\n",
        "x= dataset.iloc[:, 1:-1].values\n",
        "y= dataset.iloc[:, -1].values"
      ],
      "execution_count": 0,
      "outputs": []
    },
    {
      "cell_type": "markdown",
      "metadata": {
        "id": "WUThxmrnh1fO",
        "colab_type": "text"
      },
      "source": [
        "# training the linear regression model on the whole dataset "
      ]
    },
    {
      "cell_type": "code",
      "metadata": {
        "id": "qOatFfJsineP",
        "colab_type": "code",
        "colab": {
          "base_uri": "https://localhost:8080/",
          "height": 34
        },
        "outputId": "310dae74-1d99-4bcd-e755-6dbe0baecf34"
      },
      "source": [
        "from sklearn.linear_model import LinearRegression\n",
        "lin_reg = LinearRegression()\n",
        "lin_reg.fit(x, y)"
      ],
      "execution_count": 4,
      "outputs": [
        {
          "output_type": "execute_result",
          "data": {
            "text/plain": [
              "LinearRegression(copy_X=True, fit_intercept=True, n_jobs=None, normalize=False)"
            ]
          },
          "metadata": {
            "tags": []
          },
          "execution_count": 4
        }
      ]
    },
    {
      "cell_type": "markdown",
      "metadata": {
        "id": "7amD4LqJjLmY",
        "colab_type": "text"
      },
      "source": [
        "# training the polynomial regression model on the whole dataset"
      ]
    },
    {
      "cell_type": "code",
      "metadata": {
        "id": "mgHCHlZfkDsd",
        "colab_type": "code",
        "colab": {
          "base_uri": "https://localhost:8080/",
          "height": 34
        },
        "outputId": "c28a43f7-08b7-44c8-b22a-9ca739a613f7"
      },
      "source": [
        "from sklearn.preprocessing import PolynomialFeatures\n",
        "poly_reg = PolynomialFeatures( degree= 4)\n",
        "x_poly = poly_reg.fit_transform(x)\n",
        "lin_reg_2 = LinearRegression()\n",
        "lin_reg_2.fit(x_poly, y)"
      ],
      "execution_count": 5,
      "outputs": [
        {
          "output_type": "execute_result",
          "data": {
            "text/plain": [
              "LinearRegression(copy_X=True, fit_intercept=True, n_jobs=None, normalize=False)"
            ]
          },
          "metadata": {
            "tags": []
          },
          "execution_count": 5
        }
      ]
    },
    {
      "cell_type": "markdown",
      "metadata": {
        "id": "StFGb4Zpk7mf",
        "colab_type": "text"
      },
      "source": [
        "# visualising the linear regression model"
      ]
    },
    {
      "cell_type": "code",
      "metadata": {
        "id": "ki1NErUylEM6",
        "colab_type": "code",
        "colab": {
          "base_uri": "https://localhost:8080/",
          "height": 295
        },
        "outputId": "fa5205bb-ff11-4c4a-fd8b-4fdcf4297f7d"
      },
      "source": [
        "plt.scatter(x, y, color='red')\n",
        "plt.plot(x, lin_reg.predict(x),color='blue')\n",
        "plt.title('truth or bluff(linear regression)')\n",
        "plt.xlabel('position salaries')\n",
        "plt.ylabel('salary')\n",
        "plt.show()"
      ],
      "execution_count": 6,
      "outputs": [
        {
          "output_type": "display_data",
          "data": {
            "image/png": "[encoded data removed]",
            "text/plain": [
              "<Figure size 432x288 with 1 Axes>"
            ]
          },
          "metadata": {
            "tags": [],
            "needs_background": "light"
          }
        }
      ]
    },
    {
      "cell_type": "markdown",
      "metadata": {
        "id": "T5qXT75aluww",
        "colab_type": "text"
      },
      "source": [
        "# visualising the polynomial regression model"
      ]
    },
    {
      "cell_type": "code",
      "metadata": {
        "id": "66dIwKJgl0KD",
        "colab_type": "code",
        "colab": {
          "base_uri": "https://localhost:8080/",
          "height": 295
        },
        "outputId": "380c29d0-681b-485f-9552-b45dc6f71598"
      },
      "source": [
        "plt.scatter(x, y, color='red')\n",
        "plt.plot(x, lin_reg_2.predict(poly_reg.fit_transform(x)),color='blue')\n",
        "plt.title('truth or bluff(polynomial regression)')\n",
        "plt.xlabel('position salaries')\n",
        "plt.ylabel('salary')\n",
        "plt.show()"
      ],
      "execution_count": 7,
      "outputs": [
        {
          "output_type": "display_data",
          "data": {
            "image/png": "[encoded data removed]",
            "text/plain": [
              "<Figure size 432x288 with 1 Axes>"
            ]
          },
          "metadata": {
            "tags": [],
            "needs_background": "light"
          }
        }
      ]
    },
    {
      "cell_type": "markdown",
      "metadata": {
        "id": "gq7mgpozmNXV",
        "colab_type": "text"
      },
      "source": [
        "# predicting a new result with linear regression"
      ]
    },
    {
      "cell_type": "code",
      "metadata": {
        "id": "OgWiYICAmaaH",
        "colab_type": "code",
        "colab": {
          "base_uri": "https://localhost:8080/",
          "height": 34
        },
        "outputId": "1cfa6cae-5f9e-4f00-f214-28fa6aaa0f4d"
      },
      "source": [
        "lin_reg.predict([[6.5]])"
      ],
      "execution_count": 8,
      "outputs": [
        {
          "output_type": "execute_result",
          "data": {
            "text/plain": [
              "array([330378.78787879])"
            ]
          },
          "metadata": {
            "tags": []
          },
          "execution_count": 8
        }
      ]
    },
    {
      "cell_type": "markdown",
      "metadata": {
        "id": "Gcan5IlKm0Sw",
        "colab_type": "text"
      },
      "source": [
        "# predicting a new result with polynomial regression"
      ]
    },
    {
      "cell_type": "code",
      "metadata": {
        "id": "h3QhnHY_m_v5",
        "colab_type": "code",
        "colab": {
          "base_uri": "https://localhost:8080/",
          "height": 34
        },
        "outputId": "fb68c994-7f15-4b3c-f282-2defa68915b8"
      },
      "source": [
        "lin_reg_2.predict(poly_reg.fit_transform([[6.5]]))"
      ],
      "execution_count": 11,
      "outputs": [
        {
          "output_type": "execute_result",
          "data": {
            "text/plain": [
              "array([158862.45265155])"
            ]
          },
          "metadata": {
            "tags": []
          },
          "execution_count": 11
        }
      ]
    }
  ]
}